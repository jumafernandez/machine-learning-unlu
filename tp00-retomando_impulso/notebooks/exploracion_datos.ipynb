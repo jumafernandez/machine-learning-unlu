{
 "cells": [
  {
   "cell_type": "markdown",
   "id": "8f237243",
   "metadata": {},
   "source": [
    "# 📊 Exploración de Datos — Ecobici 2024\n",
    "\n",
    "En esta notebook realizaremos una **exploración inicial** de los datasets de recorridos y usuarios del sistema de bicicletas públicas de la Ciudad de Buenos Aires.\n",
    "\n",
    "---"
   ]
  },
  {
   "cell_type": "markdown",
   "id": "079cb643",
   "metadata": {},
   "source": [
    "## 1️⃣ Cargar librerías\n",
    "\n",
    "En esta sección instalamos/importamos las librerías necesarias para trabajar con los datos."
   ]
  },
  {
   "cell_type": "code",
   "execution_count": 19,
   "id": "d0f9de9f",
   "metadata": {},
   "outputs": [
    {
     "name": "stdout",
     "output_type": "stream",
     "text": [
      "Defaulting to user installation because normal site-packages is not writeable\n",
      "Requirement already satisfied: pandas in /Users/devlaptop/Library/Python/3.9/lib/python/site-packages (2.3.1)\n",
      "Requirement already satisfied: numpy>=1.22.4 in /Users/devlaptop/Library/Python/3.9/lib/python/site-packages (from pandas) (2.0.2)\n",
      "Requirement already satisfied: python-dateutil>=2.8.2 in /Users/devlaptop/Library/Python/3.9/lib/python/site-packages (from pandas) (2.9.0.post0)\n",
      "Requirement already satisfied: pytz>=2020.1 in /Users/devlaptop/Library/Python/3.9/lib/python/site-packages (from pandas) (2025.2)\n",
      "Requirement already satisfied: tzdata>=2022.7 in /Users/devlaptop/Library/Python/3.9/lib/python/site-packages (from pandas) (2025.2)\n",
      "Requirement already satisfied: six>=1.5 in /Library/Developer/CommandLineTools/Library/Frameworks/Python3.framework/Versions/3.9/lib/python3.9/site-packages (from python-dateutil>=2.8.2->pandas) (1.15.0)\n",
      "\u001b[33mWARNING: You are using pip version 21.2.4; however, version 25.2 is available.\n",
      "You should consider upgrading via the '/Library/Developer/CommandLineTools/usr/bin/python3 -m pip install --upgrade pip' command.\u001b[0m\n",
      "Note: you may need to restart the kernel to use updated packages.\n"
     ]
    }
   ],
   "source": [
    "# instala en el mismo Python del kernel\n",
    "%pip install pandas"
   ]
  },
  {
   "cell_type": "code",
   "execution_count": 20,
   "id": "3db5e049",
   "metadata": {},
   "outputs": [],
   "source": [
    "import pandas as pd"
   ]
  },
  {
   "cell_type": "markdown",
   "id": "ec13931c",
   "metadata": {},
   "source": [
    "Además, genero un literal con el directorio donde tengo alojado el proyecto:"
   ]
  },
  {
   "cell_type": "code",
   "execution_count": 21,
   "id": "06d7dfb0",
   "metadata": {},
   "outputs": [],
   "source": [
    "DIRECTORIO = '/Users/devlaptop//Documents/GitHub/machine-learning-unlu/tp00-retomando_impulso/data'"
   ]
  },
  {
   "cell_type": "markdown",
   "id": "2f881a08",
   "metadata": {},
   "source": [
    "## 2️⃣ Lectura de datos\n",
    "\n",
    "Leemos los archivos CSV desde la carpeta `data/raw/` (o la ruta donde estén guardados en el repo)."
   ]
  },
  {
   "cell_type": "code",
   "execution_count": 22,
   "id": "2814b769",
   "metadata": {},
   "outputs": [],
   "source": [
    "recorridos = pd.read_csv(DIRECTORIO+'/raw/badata_ecobici_recorridos_realizados_2024.csv')"
   ]
  },
  {
   "cell_type": "code",
   "execution_count": 23,
   "id": "78211fc2",
   "metadata": {},
   "outputs": [
    {
     "data": {
      "text/html": [
       "<div>\n",
       "<style scoped>\n",
       "    .dataframe tbody tr th:only-of-type {\n",
       "        vertical-align: middle;\n",
       "    }\n",
       "\n",
       "    .dataframe tbody tr th {\n",
       "        vertical-align: top;\n",
       "    }\n",
       "\n",
       "    .dataframe thead th {\n",
       "        text-align: right;\n",
       "    }\n",
       "</style>\n",
       "<table border=\"1\" class=\"dataframe\">\n",
       "  <thead>\n",
       "    <tr style=\"text-align: right;\">\n",
       "      <th></th>\n",
       "      <th>id_recorrido</th>\n",
       "      <th>duracion_recorrido</th>\n",
       "      <th>fecha_origen_recorrido</th>\n",
       "      <th>id_estacion_origen</th>\n",
       "      <th>nombre_estacion_origen</th>\n",
       "      <th>direccion_estacion_origen</th>\n",
       "      <th>long_estacion_origen</th>\n",
       "      <th>lat_estacion_origen</th>\n",
       "      <th>fecha_destino_recorrido</th>\n",
       "      <th>id_estacion_destino</th>\n",
       "      <th>nombre_estacion_destino</th>\n",
       "      <th>direccion_estacion_destino</th>\n",
       "      <th>long_estacion_destino</th>\n",
       "      <th>lat_estacion_destino</th>\n",
       "      <th>id_usuario</th>\n",
       "      <th>modelo_bicicleta</th>\n",
       "      <th>genero</th>\n",
       "    </tr>\n",
       "  </thead>\n",
       "  <tbody>\n",
       "    <tr>\n",
       "      <th>0</th>\n",
       "      <td>20428222</td>\n",
       "      <td>568</td>\n",
       "      <td>2024-01-23 18:36:00</td>\n",
       "      <td>513</td>\n",
       "      <td>308 - SAN MARTIN II</td>\n",
       "      <td>Av. San Martín 5129</td>\n",
       "      <td>-58.490739</td>\n",
       "      <td>-34.597130</td>\n",
       "      <td>2024-01-23 18:45:28</td>\n",
       "      <td>498</td>\n",
       "      <td>055 - HABANA</td>\n",
       "      <td>Gral. José Gervasio Artigas 4298 (y Habana)</td>\n",
       "      <td>-58.494959</td>\n",
       "      <td>-34.586598</td>\n",
       "      <td>992557.0</td>\n",
       "      <td>FIT</td>\n",
       "      <td>MALE</td>\n",
       "    </tr>\n",
       "    <tr>\n",
       "      <th>1</th>\n",
       "      <td>20431744</td>\n",
       "      <td>1355</td>\n",
       "      <td>2024-01-23 22:41:20</td>\n",
       "      <td>460</td>\n",
       "      <td>133 - BEIRO Y SEGUROLA</td>\n",
       "      <td>Segurola 3194</td>\n",
       "      <td>-58.511930</td>\n",
       "      <td>-34.607500</td>\n",
       "      <td>2024-01-23 23:03:55</td>\n",
       "      <td>382</td>\n",
       "      <td>204 - Biarritz</td>\n",
       "      <td>Biarritz 2403</td>\n",
       "      <td>-58.477255</td>\n",
       "      <td>-34.605431</td>\n",
       "      <td>320782.0</td>\n",
       "      <td>FIT</td>\n",
       "      <td>FEMALE</td>\n",
       "    </tr>\n",
       "    <tr>\n",
       "      <th>2</th>\n",
       "      <td>20429936</td>\n",
       "      <td>0</td>\n",
       "      <td>2024-01-23 20:06:22</td>\n",
       "      <td>467</td>\n",
       "      <td>328 - SARMIENTO II</td>\n",
       "      <td>Sarmiento 2037</td>\n",
       "      <td>-58.395893</td>\n",
       "      <td>-34.605514</td>\n",
       "      <td>2024-01-23 20:06:22</td>\n",
       "      <td>6</td>\n",
       "      <td>006 - Parque Lezama</td>\n",
       "      <td>Avenida Martin Garcia, 295</td>\n",
       "      <td>-58.369758</td>\n",
       "      <td>-34.628526</td>\n",
       "      <td>828678.0</td>\n",
       "      <td>FIT</td>\n",
       "      <td>FEMALE</td>\n",
       "    </tr>\n",
       "    <tr>\n",
       "      <th>3</th>\n",
       "      <td>20429976</td>\n",
       "      <td>0</td>\n",
       "      <td>2024-01-23 20:08:17</td>\n",
       "      <td>382</td>\n",
       "      <td>204 - Biarritz</td>\n",
       "      <td>Biarritz 2403</td>\n",
       "      <td>-58.477255</td>\n",
       "      <td>-34.605431</td>\n",
       "      <td>2024-01-23 20:08:17</td>\n",
       "      <td>460</td>\n",
       "      <td>133 - BEIRO Y SEGUROLA</td>\n",
       "      <td>Segurola 3194</td>\n",
       "      <td>-58.511930</td>\n",
       "      <td>-34.607500</td>\n",
       "      <td>320782.0</td>\n",
       "      <td>ICONIC</td>\n",
       "      <td>FEMALE</td>\n",
       "    </tr>\n",
       "    <tr>\n",
       "      <th>4</th>\n",
       "      <td>20424802</td>\n",
       "      <td>680</td>\n",
       "      <td>2024-01-23 15:18:39</td>\n",
       "      <td>137</td>\n",
       "      <td>137 - AZOPARDO Y CHILE</td>\n",
       "      <td>AZOPARDO 700</td>\n",
       "      <td>-58.367492</td>\n",
       "      <td>-34.615598</td>\n",
       "      <td>2024-01-23 15:29:59</td>\n",
       "      <td>150</td>\n",
       "      <td>150 - RODRIGO BUENO</td>\n",
       "      <td>Av. España 2200</td>\n",
       "      <td>-58.355465</td>\n",
       "      <td>-34.618755</td>\n",
       "      <td>861425.0</td>\n",
       "      <td>FIT</td>\n",
       "      <td>FEMALE</td>\n",
       "    </tr>\n",
       "  </tbody>\n",
       "</table>\n",
       "</div>"
      ],
      "text/plain": [
       "   id_recorrido  duracion_recorrido fecha_origen_recorrido  \\\n",
       "0      20428222                 568    2024-01-23 18:36:00   \n",
       "1      20431744                1355    2024-01-23 22:41:20   \n",
       "2      20429936                   0    2024-01-23 20:06:22   \n",
       "3      20429976                   0    2024-01-23 20:08:17   \n",
       "4      20424802                 680    2024-01-23 15:18:39   \n",
       "\n",
       "   id_estacion_origen  nombre_estacion_origen direccion_estacion_origen  \\\n",
       "0                 513     308 - SAN MARTIN II       Av. San Martín 5129   \n",
       "1                 460  133 - BEIRO Y SEGUROLA             Segurola 3194   \n",
       "2                 467      328 - SARMIENTO II            Sarmiento 2037   \n",
       "3                 382          204 - Biarritz             Biarritz 2403   \n",
       "4                 137  137 - AZOPARDO Y CHILE              AZOPARDO 700   \n",
       "\n",
       "   long_estacion_origen  lat_estacion_origen fecha_destino_recorrido  \\\n",
       "0            -58.490739           -34.597130     2024-01-23 18:45:28   \n",
       "1            -58.511930           -34.607500     2024-01-23 23:03:55   \n",
       "2            -58.395893           -34.605514     2024-01-23 20:06:22   \n",
       "3            -58.477255           -34.605431     2024-01-23 20:08:17   \n",
       "4            -58.367492           -34.615598     2024-01-23 15:29:59   \n",
       "\n",
       "   id_estacion_destino nombre_estacion_destino  \\\n",
       "0                  498            055 - HABANA   \n",
       "1                  382          204 - Biarritz   \n",
       "2                    6     006 - Parque Lezama   \n",
       "3                  460  133 - BEIRO Y SEGUROLA   \n",
       "4                  150     150 - RODRIGO BUENO   \n",
       "\n",
       "                    direccion_estacion_destino  long_estacion_destino  \\\n",
       "0  Gral. José Gervasio Artigas 4298 (y Habana)             -58.494959   \n",
       "1                                Biarritz 2403             -58.477255   \n",
       "2                   Avenida Martin Garcia, 295             -58.369758   \n",
       "3                                Segurola 3194             -58.511930   \n",
       "4                              Av. España 2200             -58.355465   \n",
       "\n",
       "   lat_estacion_destino  id_usuario modelo_bicicleta  genero  \n",
       "0            -34.586598    992557.0              FIT    MALE  \n",
       "1            -34.605431    320782.0              FIT  FEMALE  \n",
       "2            -34.628526    828678.0              FIT  FEMALE  \n",
       "3            -34.607500    320782.0           ICONIC  FEMALE  \n",
       "4            -34.618755    861425.0              FIT  FEMALE  "
      ]
     },
     "execution_count": 23,
     "metadata": {},
     "output_type": "execute_result"
    }
   ],
   "source": [
    "recorridos.head()"
   ]
  },
  {
   "cell_type": "code",
   "execution_count": 24,
   "id": "0ac8fe09",
   "metadata": {},
   "outputs": [],
   "source": [
    "usuarios = pd.read_csv(DIRECTORIO+'/raw/usuarios_ecobici_2024.csv')"
   ]
  },
  {
   "cell_type": "code",
   "execution_count": 25,
   "id": "01381021",
   "metadata": {},
   "outputs": [
    {
     "data": {
      "text/html": [
       "<div>\n",
       "<style scoped>\n",
       "    .dataframe tbody tr th:only-of-type {\n",
       "        vertical-align: middle;\n",
       "    }\n",
       "\n",
       "    .dataframe tbody tr th {\n",
       "        vertical-align: top;\n",
       "    }\n",
       "\n",
       "    .dataframe thead th {\n",
       "        text-align: right;\n",
       "    }\n",
       "</style>\n",
       "<table border=\"1\" class=\"dataframe\">\n",
       "  <thead>\n",
       "    <tr style=\"text-align: right;\">\n",
       "      <th></th>\n",
       "      <th>id_usuario</th>\n",
       "      <th>genero_usuario</th>\n",
       "      <th>edad_usuario</th>\n",
       "      <th>fecha_alta</th>\n",
       "      <th>hora_alta</th>\n",
       "    </tr>\n",
       "  </thead>\n",
       "  <tbody>\n",
       "    <tr>\n",
       "      <th>0</th>\n",
       "      <td>1094487</td>\n",
       "      <td>OTHER</td>\n",
       "      <td>35</td>\n",
       "      <td>2024-01-18</td>\n",
       "      <td>09:21:02</td>\n",
       "    </tr>\n",
       "    <tr>\n",
       "      <th>1</th>\n",
       "      <td>1097128</td>\n",
       "      <td>FEMALE</td>\n",
       "      <td>21</td>\n",
       "      <td>2024-01-21</td>\n",
       "      <td>23:02:26</td>\n",
       "    </tr>\n",
       "    <tr>\n",
       "      <th>2</th>\n",
       "      <td>1102901</td>\n",
       "      <td>OTHER</td>\n",
       "      <td>19</td>\n",
       "      <td>2024-01-29</td>\n",
       "      <td>19:33:32</td>\n",
       "    </tr>\n",
       "    <tr>\n",
       "      <th>3</th>\n",
       "      <td>1096100</td>\n",
       "      <td>FEMALE</td>\n",
       "      <td>29</td>\n",
       "      <td>2024-01-20</td>\n",
       "      <td>18:57:05</td>\n",
       "    </tr>\n",
       "    <tr>\n",
       "      <th>4</th>\n",
       "      <td>1103049</td>\n",
       "      <td>MALE</td>\n",
       "      <td>21</td>\n",
       "      <td>2024-01-30</td>\n",
       "      <td>00:49:33</td>\n",
       "    </tr>\n",
       "  </tbody>\n",
       "</table>\n",
       "</div>"
      ],
      "text/plain": [
       "   id_usuario genero_usuario  edad_usuario  fecha_alta hora_alta\n",
       "0     1094487          OTHER            35  2024-01-18  09:21:02\n",
       "1     1097128         FEMALE            21  2024-01-21  23:02:26\n",
       "2     1102901          OTHER            19  2024-01-29  19:33:32\n",
       "3     1096100         FEMALE            29  2024-01-20  18:57:05\n",
       "4     1103049           MALE            21  2024-01-30  00:49:33"
      ]
     },
     "execution_count": 25,
     "metadata": {},
     "output_type": "execute_result"
    }
   ],
   "source": [
    "usuarios.head()"
   ]
  },
  {
   "cell_type": "markdown",
   "id": "688fed13",
   "metadata": {},
   "source": [
    "## 3️⃣ Exploración de los datasets\n",
    "\n",
    "A continuación se verifica la dimensionalidad de ambos datasets, la estructura y la cantidad y proporción de nulos para cada atributo."
   ]
  },
  {
   "cell_type": "markdown",
   "id": "eef44d05",
   "metadata": {},
   "source": [
    "### Usuarios"
   ]
  },
  {
   "cell_type": "code",
   "execution_count": 26,
   "id": "8b716556",
   "metadata": {},
   "outputs": [
    {
     "data": {
      "text/plain": [
       "(197077, 5)"
      ]
     },
     "execution_count": 26,
     "metadata": {},
     "output_type": "execute_result"
    }
   ],
   "source": [
    "usuarios.shape"
   ]
  },
  {
   "cell_type": "code",
   "execution_count": 27,
   "id": "8546c3b8",
   "metadata": {},
   "outputs": [
    {
     "data": {
      "text/plain": [
       "id_usuario         int64\n",
       "genero_usuario    object\n",
       "edad_usuario       int64\n",
       "fecha_alta        object\n",
       "hora_alta         object\n",
       "dtype: object"
      ]
     },
     "execution_count": 27,
     "metadata": {},
     "output_type": "execute_result"
    }
   ],
   "source": [
    "usuarios.dtypes"
   ]
  },
  {
   "cell_type": "code",
   "execution_count": 28,
   "id": "13c0cf42",
   "metadata": {},
   "outputs": [
    {
     "name": "stdout",
     "output_type": "stream",
     "text": [
      "\n",
      "Valores nulos por columna:\n"
     ]
    },
    {
     "data": {
      "text/plain": [
       "id_usuario        0\n",
       "genero_usuario    0\n",
       "edad_usuario      0\n",
       "fecha_alta        0\n",
       "hora_alta         0\n",
       "dtype: int64"
      ]
     },
     "execution_count": 28,
     "metadata": {},
     "output_type": "execute_result"
    }
   ],
   "source": [
    "print(\"\\nValores nulos por columna:\")\n",
    "usuarios.isnull().sum()"
   ]
  },
  {
   "cell_type": "markdown",
   "id": "8fa8bc16",
   "metadata": {},
   "source": [
    "### Recorridos"
   ]
  },
  {
   "cell_type": "code",
   "execution_count": 29,
   "id": "6164d5a4",
   "metadata": {},
   "outputs": [
    {
     "data": {
      "text/plain": [
       "(3559284, 17)"
      ]
     },
     "execution_count": 29,
     "metadata": {},
     "output_type": "execute_result"
    }
   ],
   "source": [
    "recorridos.shape"
   ]
  },
  {
   "cell_type": "markdown",
   "id": "0208a239",
   "metadata": {},
   "source": [
    "recorridos.dtypes"
   ]
  },
  {
   "cell_type": "code",
   "execution_count": 30,
   "id": "2134fd31",
   "metadata": {},
   "outputs": [
    {
     "name": "stdout",
     "output_type": "stream",
     "text": [
      "\n",
      "Valores nulos por columna:\n"
     ]
    },
    {
     "data": {
      "text/plain": [
       "id_usuario        0\n",
       "genero_usuario    0\n",
       "edad_usuario      0\n",
       "fecha_alta        0\n",
       "hora_alta         0\n",
       "dtype: int64"
      ]
     },
     "execution_count": 30,
     "metadata": {},
     "output_type": "execute_result"
    }
   ],
   "source": [
    "print(\"\\nValores nulos por columna:\")\n",
    "usuarios.isnull().sum()"
   ]
  }
 ],
 "metadata": {
  "kernelspec": {
   "display_name": "Python 3",
   "language": "python",
   "name": "python3"
  },
  "language_info": {
   "codemirror_mode": {
    "name": "ipython",
    "version": 3
   },
   "file_extension": ".py",
   "mimetype": "text/x-python",
   "name": "python",
   "nbconvert_exporter": "python",
   "pygments_lexer": "ipython3",
   "version": "3.9.6"
  }
 },
 "nbformat": 4,
 "nbformat_minor": 5
}
